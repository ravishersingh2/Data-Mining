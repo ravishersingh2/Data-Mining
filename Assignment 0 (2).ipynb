{
 "cells": [
  {
   "cell_type": "markdown",
   "metadata": {},
   "source": [
    "<h1><strong>CSCI 4455/5455&ndash; Fall 2021</strong></h1>\n",
    "\n",
    "<h2><strong>Assignment 0 - Optional - 1% Extra Credit</strong></h2>\n",
    "\n",
    "<h3><strong><span style=\"color:#cc3300;\">Due: September 22, 8:59pm </span></strong></h3>\n",
    "\n",
    "<h3><strong>Your name:</strong></h3>"
   ]
  },
  {
   "cell_type": "markdown",
   "metadata": {},
   "source": [
    "<ul>\n",
    "\t<li style=\"text-align: justify;\">Please note that you must do this assignment&nbsp;<span style=\"color:#cc3300;\"><strong><u>individually</u></strong></span>. Using automatic tools, your code will be checked against other submissions and other existing resources (such as websites and books).</li>\n",
    "\t<li style=\"text-align: justify;\">Check Canvas regularly for possible clarifications and updates.</li>\n",
    "\t<li style=\"text-align: justify;\">You can get up to 1% extra credit on this assignment added to your final grade.</li>\n",
    "</ul>"
   ]
  },
  {
   "cell_type": "markdown",
   "metadata": {},
   "source": [
    "<h2>Letter Count (100 points)</h2>\n",
    "\n",
    "<p style=\"text-align: justify;\">Write a Python script that reads a file and outputs the number of words that start with each letter. We&nbsp;want to count the total number of (nonunique) words that begin with that letter for every letter. You should ignore the letter case in your implementation, i.e., consider all words as lower case. Also, please ignore the words starting with special characters or numbers, if any.</p>"
   ]
  },
  {
   "cell_type": "markdown",
   "metadata": {},
   "source": [
    "<h3><strong>Part A (60 points)</strong></h3>\n",
    "\n",
    "<p>Declare the path to your input text as a variable:</p>"
   ]
  },
  {
   "cell_type": "code",
   "execution_count": 3,
   "metadata": {},
   "outputs": [],
   "source": [
    "txt_path = r'DataMining/sampledata12.txt'"
   ]
  },
  {
   "cell_type": "code",
   "execution_count": 4,
   "metadata": {},
   "outputs": [],
   "source": [
    "f = open(\"sampledata12.txt\", \"r\")"
   ]
  },
  {
   "cell_type": "code",
   "execution_count": 5,
   "metadata": {},
   "outputs": [
    {
     "data": {
      "text/plain": [
       "_io.TextIOWrapper"
      ]
     },
     "execution_count": 5,
     "metadata": {},
     "output_type": "execute_result"
    }
   ],
   "source": [
    "type(f)"
   ]
  },
  {
   "cell_type": "code",
   "execution_count": 6,
   "metadata": {},
   "outputs": [],
   "source": [
    "text=f.read()"
   ]
  },
  {
   "cell_type": "markdown",
   "metadata": {},
   "source": [
    "Output the results in the following format (below values are hypothetical):\n",
    "\n",
    "<pre style=\"box-sizing: border-box; overflow: auto; font-size: 14px; padding: 1px 0px; margin-top: 0px; margin-bottom: 0px; line-height: inherit; color: rgb(0, 0, 0); word-break: break-all; border: 0px; border-radius: 0px; vertical-align: baseline;\">\n",
    "a or A: 120\n",
    "\n",
    "b or B: 460\n",
    "\n",
    "c or C: 240\n",
    "\n",
    "(do this for all letters from a to z in alphabetical order)\n",
    "\n",
    "z or Z: 22</pre>"
   ]
  },
  {
   "cell_type": "code",
   "execution_count": 78,
   "metadata": {},
   "outputs": [],
   "source": [
    "def count_first_letters(txt_path):\n",
    "    file = open(\"sampledata12.txt\", \"r\", errors ='ignore') # opening the above file\n",
    "    charcount = {} #use a dictionary to hold char count\n",
    "    validchars = \"abcdefghijklmnopqrstuvwxyz\" #we only want to count the alphabets\n",
    "\n",
    "    print(f'{\":\":<2} {\"Letter\":<2} {\":\":<2} {\"Frequency\":<5} {\":\":<2}')\n",
    "\n",
    "    for i in range(97,123): # lowercase range\n",
    "        c = (chr(i)) # the chars a-z\n",
    "        charcount[c] = 0 # initialize count\n",
    "\n",
    "    for line in file:\n",
    "        words = line.split(\" \") # each word\n",
    "        for word in words:  # copy the words into chars\n",
    "          chars = list(word) #converting to a list\n",
    "          for j in chars:  # \n",
    "              if j.isalpha():  # only alpha allowed to use\n",
    "                  if j.isupper():\n",
    "                      j = j.lower()  # convert to lower if uppercase\n",
    "                  if j in validchars: # if in valid char set\n",
    "                      charcount[j] += 1 \n",
    "\n",
    "    for k,v in charcount.items():\n",
    "        print(f'{\":\":<2} {k:^6} {\":\":<4} {v:<6} {\":\":>2}') #uncomment to see the better formatted output\n",
    " \n",
    "\n",
    "\n",
    "    return charcount\n",
    "        \n",
    "\n",
    "    #file.close() # close file"
   ]
  },
  {
   "cell_type": "code",
   "execution_count": 79,
   "metadata": {},
   "outputs": [
    {
     "name": "stdout",
     "output_type": "stream",
     "text": [
      ":  Letter :  Frequency : \n",
      ":    a    :    1010    :\n",
      ":    b    :    285     :\n",
      ":    c    :    427     :\n",
      ":    d    :    602     :\n",
      ":    e    :    1999    :\n",
      ":    f    :    345     :\n",
      ":    g    :    280     :\n",
      ":    h    :    880     :\n",
      ":    i    :    1065    :\n",
      ":    j    :    27      :\n",
      ":    k    :    97      :\n",
      ":    l    :    671     :\n",
      ":    m    :    396     :\n",
      ":    n    :    957     :\n",
      ":    o    :    1222    :\n",
      ":    p    :    271     :\n",
      ":    q    :    14      :\n",
      ":    r    :    965     :\n",
      ":    s    :    1031    :\n",
      ":    t    :    1486    :\n",
      ":    u    :    531     :\n",
      ":    v    :    148     :\n",
      ":    w    :    329     :\n",
      ":    x    :    39      :\n",
      ":    y    :    429     :\n",
      ":    z    :    4       :\n"
     ]
    },
    {
     "data": {
      "text/plain": [
       "{'a': 1010,\n",
       " 'b': 285,\n",
       " 'c': 427,\n",
       " 'd': 602,\n",
       " 'e': 1999,\n",
       " 'f': 345,\n",
       " 'g': 280,\n",
       " 'h': 880,\n",
       " 'i': 1065,\n",
       " 'j': 27,\n",
       " 'k': 97,\n",
       " 'l': 671,\n",
       " 'm': 396,\n",
       " 'n': 957,\n",
       " 'o': 1222,\n",
       " 'p': 271,\n",
       " 'q': 14,\n",
       " 'r': 965,\n",
       " 's': 1031,\n",
       " 't': 1486,\n",
       " 'u': 531,\n",
       " 'v': 148,\n",
       " 'w': 329,\n",
       " 'x': 39,\n",
       " 'y': 429,\n",
       " 'z': 4}"
      ]
     },
     "execution_count": 79,
     "metadata": {},
     "output_type": "execute_result"
    }
   ],
   "source": [
    "count_first_letters(txt_path)"
   ]
  },
  {
   "cell_type": "code",
   "execution_count": 80,
   "metadata": {},
   "outputs": [
    {
     "name": "stdout",
     "output_type": "stream",
     "text": [
      ":  Letter :  Frequency : \n",
      ":    a    :    1010    :\n",
      ":    b    :    285     :\n",
      ":    c    :    427     :\n",
      ":    d    :    602     :\n",
      ":    e    :    1999    :\n",
      ":    f    :    345     :\n",
      ":    g    :    280     :\n",
      ":    h    :    880     :\n",
      ":    i    :    1065    :\n",
      ":    j    :    27      :\n",
      ":    k    :    97      :\n",
      ":    l    :    671     :\n",
      ":    m    :    396     :\n",
      ":    n    :    957     :\n",
      ":    o    :    1222    :\n",
      ":    p    :    271     :\n",
      ":    q    :    14      :\n",
      ":    r    :    965     :\n",
      ":    s    :    1031    :\n",
      ":    t    :    1486    :\n",
      ":    u    :    531     :\n",
      ":    v    :    148     :\n",
      ":    w    :    329     :\n",
      ":    x    :    39      :\n",
      ":    y    :    429     :\n",
      ":    z    :    4       :\n"
     ]
    }
   ],
   "source": [
    "x=count_first_letters(txt_path)"
   ]
  },
  {
   "cell_type": "code",
   "execution_count": 81,
   "metadata": {},
   "outputs": [
    {
     "name": "stdout",
     "output_type": "stream",
     "text": [
      "{'a': 1010, 'b': 285, 'c': 427, 'd': 602, 'e': 1999, 'f': 345, 'g': 280, 'h': 880, 'i': 1065, 'j': 27, 'k': 97, 'l': 671, 'm': 396, 'n': 957, 'o': 1222, 'p': 271, 'q': 14, 'r': 965, 's': 1031, 't': 1486, 'u': 531, 'v': 148, 'w': 329, 'x': 39, 'y': 429, 'z': 4}\n"
     ]
    }
   ],
   "source": [
    "print(x)"
   ]
  },
  {
   "cell_type": "code",
   "execution_count": 82,
   "metadata": {},
   "outputs": [
    {
     "data": {
      "text/plain": [
       "dict"
      ]
     },
     "execution_count": 82,
     "metadata": {},
     "output_type": "execute_result"
    }
   ],
   "source": [
    "type(x)"
   ]
  },
  {
   "cell_type": "code",
   "execution_count": 83,
   "metadata": {},
   "outputs": [
    {
     "data": {
      "image/png": "[encoded data removed]",
      "text/plain": [
       "<Figure size 1200x800 with 1 Axes>"
      ]
     },
     "metadata": {
      "needs_background": "light"
     },
     "output_type": "display_data"
    }
   ],
   "source": [
    "import matplotlib.pyplot as plt\n",
    "\n",
    "\n",
    "names = list(x.keys())\n",
    "values = list(x.values())\n",
    "\n",
    "plt.bar(range(len(x)), values, tick_label=names)\n",
    "plt.show()\n"
   ]
  },
  {
   "cell_type": "code",
   "execution_count": 77,
   "metadata": {},
   "outputs": [
    {
     "name": "stdout",
     "output_type": "stream",
     "text": [
      ":  Letter :  Frequency : \n",
      ":    a    :    1010    :\n",
      ":    b    :    285     :\n",
      ":    c    :    427     :\n",
      ":    d    :    602     :\n",
      ":    e    :    1999    :\n",
      ":    f    :    345     :\n",
      ":    g    :    280     :\n",
      ":    h    :    880     :\n",
      ":    i    :    1065    :\n",
      ":    j    :    27      :\n",
      ":    k    :    97      :\n",
      ":    l    :    671     :\n",
      ":    m    :    396     :\n",
      ":    n    :    957     :\n",
      ":    o    :    1222    :\n",
      ":    p    :    271     :\n",
      ":    q    :    14      :\n",
      ":    r    :    965     :\n",
      ":    s    :    1031    :\n",
      ":    t    :    1486    :\n",
      ":    u    :    531     :\n",
      ":    v    :    148     :\n",
      ":    w    :    329     :\n",
      ":    x    :    39      :\n",
      ":    y    :    429     :\n",
      ":    z    :    4       :\n"
     ]
    }
   ],
   "source": [
    "x=count_first_letters(txt_path)"
   ]
  },
  {
   "cell_type": "code",
   "execution_count": 26,
   "metadata": {},
   "outputs": [
    {
     "data": {
      "text/plain": [
       "NoneType"
      ]
     },
     "execution_count": 26,
     "metadata": {},
     "output_type": "execute_result"
    }
   ],
   "source": []
  },
  {
   "cell_type": "markdown",
   "metadata": {},
   "source": [
    "<h3><strong>Part C (10 points)</strong></h3>\n",
    "\n",
    "<ul>\n",
    "\t<li style=\"text-align: justify;\">Formatting: follow the Python <a href=\"http://google.github.io/styleguide/pyguide.html\">style guide by Google</a></li>\n",
    "\t<li style=\"text-align: justify;\">Readability: add comments, use proper variable names (not a, b, c, &hellip;)</li>\n",
    "\t<li style=\"text-align: justify;\">You will not receive any points in this part if your code does not compile</li>\n",
    "</ul>\n"
   ]
  },
  {
   "cell_type": "markdown",
   "metadata": {},
   "source": [
    "<h3><strong>Submission</strong></h3>\n",
    "\n",
    "<ul>\n",
    "    <li style=\"text-align: justify;\">We will run your code using the “Run All Cells” on Jupyter Notebook. So, you need to define the functions that will be called from the driver function before the driver function.</li>\n",
    "\t<li style=\"text-align: justify;\">You need to submit a single .ipynb file on Canvas, named as your-lastname_your-first-name.ipynb.</li>\n",
    "\t<li style=\"text-align: justify;\"><span style=\"color:#FF0000;\">DO NOT INCLUDE EXTRA FILES, SUCH AS THE INPUT DATASETS</span>, in your submission.</li>\n",
    "\t<li style=\"text-align: justify;\">Please download your assignment after submission and make sure it is not corrupted. We will not be responsible for corrupted submissions and will not take a resubmission after the deadline.&nbsp;</li>\n",
    "</ul>"
   ]
  },
  {
   "cell_type": "markdown",
   "metadata": {},
   "source": [
    "<h3 style=\"text-align: justify;\">Need Help?</h3>\n",
    "\n",
    "<p style=\"text-align: justify;\">In case you need help with this assignment, please contact Erfan (on MS Teams or via email at <a href=\"mailto:erfan.jafarikhademzavareh@ucdenver.edu\">erfan.jafarikhademzavareh@ucdenver.edu</a>) or go to his office hours.</p>\n",
    "\n",
    "<p style=\"text-align: justify;\">You are highly encouraged to ask your question on the designated channel for Assignment 0 on Microsoft Teams (not necessarily monitored by the instructor/TA). Feel free to help other students with <strong><em><u>general</u></em></strong> questions only. <span style=\"color:#FF0000;\">DO NOT share your solution</span>.</p>"
   ]
  }
 ],
 "metadata": {
  "kernelspec": {
   "display_name": "Python 3",
   "language": "python",
   "name": "python3"
  },
  "language_info": {
   "codemirror_mode": {
    "name": "ipython",
    "version": 3
   },
   "file_extension": ".py",
   "mimetype": "text/x-python",
   "name": "python",
   "nbconvert_exporter": "python",
   "pygments_lexer": "ipython3",
   "version": "3.8.5"
  }
 },
 "nbformat": 4,
 "nbformat_minor": 2
}
