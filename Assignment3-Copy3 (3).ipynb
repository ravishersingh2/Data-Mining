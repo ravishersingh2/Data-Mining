{
 "cells": [
  {
   "cell_type": "markdown",
   "metadata": {
    "deletable": false
   },
   "source": [
    "<h1><strong>CSCI 4455/5455&ndash; Fall 2021</strong></h1>\n",
    "\n",
    "<h2><strong>Assignment 3 - Frequent Pattern Mining</strong></h2>\n",
    "\n",
    "<h3><strong><span style=\"color:#cc3300;\">Due: November 19, 11:59pm </span></strong></h3>\n",
    "\n",
    "<h3><strong>Your name:</strong></h3>"
   ]
  },
  {
   "cell_type": "markdown",
   "metadata": {
    "deletable": false
   },
   "source": [
    "<ul>\n",
    "<li style=\"text-align: justify;\">Please note that you must do this assignment&nbsp;<span style=\"color: #cc3300;\"><strong><u>individually</u></strong></span>. Using automatic tools, your code will be checked against other submissions and other existing resources (such as websites and books).</li>\n",
    "<li style=\"text-align: justify;\">This assignment is more extensive and might take longer than previous assignments to finish. <span style=\"color: #339966;\"><strong><u>Please start early on.</u></strong></span></li>\n",
    "<li style=\"text-align: justify;\">Review the lecture notes before starting with this assignment. Then, thoroughly read this document before starting with the implementation or thinking about the solution.</li>\n",
    "<li style=\"text-align: justify;\">If you have technical questions about Python, please Google the error messages and share the error message alongside the solution that got it fixed on Microsoft Teams, as your classmates may run into the same issues.</li>\n",
    "<li style=\"text-align: justify;\">Check Canvas regularly for possible clarifications and updates.</li>\n",
    "<li style=\"text-align: justify;\">There are libraries and scripts for frequent pattern mining, but you are <span style=\"color: #cc3300;\"><strong>prohibited to use these existing resources</strong></span>, which means you <span style=\"color: #cc3300;\"><strong>cannot include public libraries</strong></span>, or <span style=\"color: #cc3300;\"><strong>modify existing programs</strong></span> since the purpose   of   this   programming   assignment   is   to   help you understand and implement frequent pattern mining algorithms. You need to develop your code from scratch.</li>\n",
    "</ul>\n"
   ]
  },
  {
   "cell_type": "markdown",
   "metadata": {},
   "source": [
    "<h2><strong>Assignment Objectives</strong></h2>\n",
    "<li style=\"text-align: justify;\">1. To implement the <span style=\"color: #339966;\"><strong>FP-Growth</strong></span> algorithm and test it under different configurations</li>\n",
    "<li style=\"text-align: justify;\">2. To mine maximal patterns</li>\n",
    "<li style=\"text-align: justify;\">3. To mine association rules from the frequent patterns</li>\n",
    "<li style=\"text-align: justify;\">4. To perform a sensitivity analysis on the minimum support threshold</li>"
   ]
  },
  {
   "cell_type": "markdown",
   "metadata": {
    "deletable": false
   },
   "source": [
    "<h2>Dataset</h2>\n",
    "\n",
    "<p style=\"text-align: justify;\">A dataset is provided with this assignment that contains retail market basket data from an anonymous Belgian retail store. \n",
    "    \n",
    "The retail dataset was originally used in the following paper: <a href=\"http://citeseerx.ist.psu.edu/viewdoc/download?doi=10.1.1.67.3296&rep=rep1&type=pdf\">paper link.</a>\n",
    "\n",
    "    \n",
    "Each line in the .txt file shows the items purchased in one transaction (transaction IDs are not provided), and items are separated by a space.    \n",
    "</p>"
   ]
  },
  {
   "cell_type": "markdown",
   "metadata": {
    "deletable": false
   },
   "source": [
    "<h2>Implementation</h2>\n",
    "\n",
    "<p style=\"text-align: justify;\">Please consider the following in your implementation:<br>\n",
    "    \n",
    "<ul>\n",
    "\n",
    "<li style=\"text-align: justify;\">You are not allowed to use frequent itemset mining libraries and need to implement your code from scratch. However, you are allowed to use Python built-in functions, such as min, max, average, map, apply, reduce, etc.</li>\n",
    "<li style=\"text-align: justify;\">Ensure that the cells in your Notebook are ordered correctly so that the “run all” option can run all cells without running to dependency issues.</li>\n",
    "</ul>\n",
    "\n",
    "<span style=\"text-align: justify;\"><strong><u>Hint</u></strong> Running the code with the provided dataset may take a long time. Moreover, verifying the correctness of your code with the provided dataset is not easy since it contains many transactions. Therefore, you should use a small dataset with a few transactions during the implementation to test your code fast and verify the results. However, note that you may obtain correct results for a small dataset, even though your code may have bugs, so eventually, you should try your code with the larger dataset.\n",
    "</span>\n",
    "</p>"
   ]
  },
  {
   "cell_type": "code",
   "execution_count": 69,
   "metadata": {
    "deletable": false
   },
   "outputs": [],
   "source": [
    "import matplotlib.pyplot as plt\n",
    "import collections\n",
    "import math\n",
    "from itertools import combinations\n",
    "import time\n",
    "from functools import reduce\n",
    "\n",
    "dataset_name =   'retail.txt'     # dataset_name: that is the dataset name (such as dataset.txt)\n",
    "patterns_path =  'patterns.csv'   # the file name that will store the frequent patterns\n",
    "rules_path =     'rules.csv'      # the file name that will store the maximal patterns\n",
    "maximal_path =   'maximal.csv'    # the file name that will store the association rules\n",
    "min_support =     0.015           # minimuum support threshold which is in percentage format (for example 0.2 means 20%)\n",
    "min_confidence =  0.9             # the minimum confidence threshold in the percentage format"
   ]
  },
  {
   "cell_type": "markdown",
   "metadata": {},
   "source": [
    "<p>Note that in the rest of this Notebook, support count refers to the raw frequency (i.e., the number of times an itemsets occurs in a database), while support is the normalized support count which is equal to $\\frac{\\text{support count}}{\\text{the number of transactions}}$ </p>"
   ]
  },
  {
   "cell_type": "markdown",
   "metadata": {
    "deletable": false
   },
   "source": [
    "<h2>Implement the FP-Growth Algorithm (40 Points)</h2>\n",
    "\n",
    "<p style=\"text-align: justify;\">Implement the FP-Growth algorithm, as discussed in the lecture notes. Display the total execution time, the total number of generated candidates, and the total number of frequent patterns in the following format (the provided values are hypothetical):\n",
    "\n",
    "    Execution time: 20 seconds\n",
    "    Candidates: 20,021\n",
    "    Frequent itemsets: 10,123\n",
    "    \n",
    "Each line must contain one pattern, its support count, and support. For example, the pattern A-B-C with support count 4 and support 0.5 must be saved in one line as A-B-C,4,0.5 in the <i><u>patterns.csv</u></i> file.\n",
    "</p>"
   ]
  },
  {
   "cell_type": "code",
   "execution_count": 70,
   "metadata": {},
   "outputs": [],
   "source": [
    "import pandas as pd\n",
    "from collections import OrderedDict\n",
    "import time\n",
    "from functools import reduce"
   ]
  },
  {
   "cell_type": "markdown",
   "metadata": {},
   "source": [
    "# I ran it all on the given values but it takes forever to run the whole thing(Not sure if its my computer or why it is running like forever) but if you would like to test whether my code is working or not I ran it over transactions/2 and it worked fine "
   ]
  },
  {
   "cell_type": "code",
   "execution_count": 71,
   "metadata": {},
   "outputs": [],
   "source": [
    "transactions = pd.read_csv(dataset_name,names = [\"Transactions\"])\n",
    "sample = transactions[:int(len(transactions)/2)]"
   ]
  },
  {
   "cell_type": "code",
   "execution_count": 72,
   "metadata": {},
   "outputs": [],
   "source": [
    "from collections import defaultdict\n",
    "\n",
    "class Node:\n",
    "\n",
    "    def __init__(self, n_name, count, parent):\n",
    "        self.name = n_name\n",
    "        self.count = count\n",
    "        self.sim = None\n",
    "        self.child = OrderedDict()\n",
    "        self.parent = parent\n",
    "\n",
    "    def print_tree(self):\n",
    "        print(self.name, self.count,end='')\n",
    "        if len(self.child)>0:\n",
    "            print(\",[\",end='')\n",
    "        for c in self.child.values():\n",
    "            print(\"[\",end='')\n",
    "            c.print_tree()\n",
    "            if len(c.child)==0:\n",
    "                print(\"]\",end='')\n",
    "        print(\"]\",end='')\n",
    "\n",
    "def update(record, cur_item):\n",
    "    while (record.sim != None):\n",
    "        record = record.sim\n",
    "    record.sim = cur_item\n",
    "\n",
    "def create_fp_tree(sample, freq_items):\n",
    "    record_sim_items = {}\n",
    "    for key in freq_items:\n",
    "        record_sim_items[key] = None\n",
    "\n",
    "    root = Node('Root',1, None)\n",
    "\n",
    "    for idx,tsc in enumerate(sample[\"Transactions\"]):\n",
    "        freq_item_set = set(freq_items)\n",
    "        tsc = set(tsc.strip().split(\" \"))\n",
    "        tsc = tsc.intersection(freq_item_set)\n",
    "        ord_tsc = []\n",
    "        for item in freq_items:\n",
    "            if item in tsc:\n",
    "                ord_tsc.append(item)\n",
    "        if len(ord_tsc)!= 0:\n",
    "            update_fptree(root, ord_tsc, record_sim_items)\n",
    "\n",
    "    record_sim_items\n",
    "\n",
    "    return root, record_sim_items\n",
    "\n",
    "def update_fptree(root, ord_tsc, record_sim_items):\n",
    "    if ord_tsc[0] in root.child:\n",
    "        root.child[ord_tsc[0]].count += 1\n",
    "    else:\n",
    "        root.child[ord_tsc[0]] = Node(ord_tsc[0], 1, root)\n",
    "\n",
    "        if record_sim_items[ord_tsc[0]] == None:\n",
    "            record_sim_items[ord_tsc[0]] = root.child[ord_tsc[0]]\n",
    "        else:\n",
    "            update(record_sim_items[ord_tsc[0]], \n",
    "                   root.child[ord_tsc[0]])\n",
    "    if len(ord_tsc) > 1:\n",
    "        update_fptree(root.child[ord_tsc[0]], ord_tsc[1::],record_sim_items)\n",
    "\n",
    "class ConditionPatternBase():\n",
    "\n",
    "    def __init__(self, key):\n",
    "        self.key = key\n",
    "        self.pattern = []\n",
    "\n",
    "    def addpattern(self, pattern, count):\n",
    "        self.pattern.append((pattern,count))\n",
    "\n",
    "\n",
    "class ConditionalFPTree():\n",
    "    def __init__(self, key,value, condPatternBase):\n",
    "        self.key = key\n",
    "        self.value = value\n",
    "        self.condPatternBase = condPatternBase\n",
    "\n",
    "    def createitems(self, support_count):\n",
    "\n",
    "        loi = defaultdict(lambda: 0)\n",
    "        flag = [0]*len(self.condPatternBase.pattern)\n",
    "        for idx,p in enumerate(self.condPatternBase.pattern):\n",
    "            if(len(p[0]) > 1 and p[1] >= support_count):\n",
    "                flag[idx] = 1\n",
    "\n",
    "            for item in p[0]:\n",
    "                loi[item] += p[1]\n",
    "\n",
    "        loi = filter(lambda x: x[1] >= support_count, loi.items())\n",
    "\n",
    "        self.items = list(loi)\n",
    "\n",
    "        for idx,f in enumerate(flag):\n",
    "            if f == 1:\n",
    "                self.items.append(self.condPatternBase.pattern[idx])\n",
    "\n",
    "\n",
    "class FrequentPattern():\n",
    "\n",
    "    def __init__(self, key, value, cfp):\n",
    "        self.key = key\n",
    "        self.value = value\n",
    "        self.cfp = cfp\n",
    "\n",
    "    def gen(self):\n",
    "        self.fp = []\n",
    "        self.fp.append((self.key,self.value))\n",
    "        for p in self.cfp.items:\n",
    "            item = []\n",
    "            if isinstance((p[0]),list):\n",
    "                temp = \"-\".join(p[0])\n",
    "                temp = \"-\".join([temp,self.key])\n",
    "                self.fp.append((temp,p[1]))\n",
    "            else:\n",
    "                self.fp.append((\"-\".join([p[0], self.key]),p[1]))\n",
    "\n",
    "\n",
    "\n",
    "def create_freq_item_list(sim_item_record,freq_items, support):\n",
    "\n",
    "    cpb = {}\n",
    "    cfpt = {}\n",
    "    fp = {}\n",
    "    ## Take each frequently occuring item from sim_item_record\n",
    "\n",
    "    for key,value in freq_items.items():\n",
    "        item = sim_item_record[key]\n",
    "        cpb[key] = ConditionPatternBase(key)\n",
    "        ## run until all similar items are traversed\n",
    "        while item != None:\n",
    "            leaf_node = item\n",
    "            leaf_count = item.count\n",
    "            path = []\n",
    "            ## run until parent is available for the node\n",
    "            while leaf_node.parent.name != \"Root\":\n",
    "                leaf_node = leaf_node.parent\n",
    "                path.append(leaf_node.name)\n",
    "            if path != []:\n",
    "                cpb[key].addpattern(path, leaf_count)   \n",
    "\n",
    "            ## Go to next similar item in the tree\n",
    "            item = item.sim\n",
    "\n",
    "        cfpt[key] = ConditionalFPTree(key, value, cpb[key])\n",
    "        cfpt[key].createitems(support_count = support)\n",
    "        fp[key] = FrequentPattern(key,value, cfpt[key])\n",
    "        fp[key].gen()\n",
    "\n",
    "    freq_patterns = pd.DataFrame(columns = [\"Pattern\",\"Support_count\"])\n",
    "    for key in fp.keys():\n",
    "        freq_patterns = freq_patterns.append(pd.DataFrame(fp[key].fp, columns = [\"Pattern\",\"Support_count\"]))\n",
    "    freq_patterns.reset_index(drop= True, inplace = True)\n",
    "\n",
    "    freq_patterns[\"support\"] = freq_patterns[\"Support_count\"]/len(sample)\n",
    "\n",
    "    freq_patterns.drop_duplicates(inplace= True)\n",
    "\n",
    "    return fp,freq_patterns, len(freq_patterns)"
   ]
  },
  {
   "cell_type": "code",
   "execution_count": 73,
   "metadata": {},
   "outputs": [
    {
     "name": "stdout",
     "output_type": "stream",
     "text": [
      "Execution time: 141.0 seconds\n",
      "Candidates: 72\n",
      "Frequent itemsets: 72\n"
     ]
    }
   ],
   "source": [
    "curtime = time.time()\n",
    "\n",
    "\n",
    "def getFrequentPatterns(sample, min_support):\n",
    "    \n",
    "    min_support_count = min_support * len(sample)\n",
    "    itemset_counts = pd.Series(collections.Counter(\n",
    "               reduce(lambda x, y : x + y, \\\n",
    "               map(lambda x : x.strip().split(\" \"), \\\n",
    "                   sample[\"Transactions\"].values))))\n",
    "\n",
    "    itemset_counts = itemset_counts[itemset_counts >= min_support_count]\n",
    "    itemset_counts.sort_values(ascending = False, inplace = True)\n",
    "    freq_items = itemset_counts\n",
    "    fptree, sim_item_record = create_fp_tree(sample, freq_items.keys())\n",
    "    freq_items.sort_values(ascending = True, inplace = True)\n",
    "    fp,patterns,count_freq =  create_freq_item_list(sim_item_record,freq_items, min_support_count)\n",
    "    \n",
    "    return patterns,count_freq\n",
    "    \n",
    "patterns,count_freq = getFrequentPatterns(sample, min_support)\n",
    "\n",
    "elasped_time = time.time() - curtime\n",
    "\n",
    "print(\"Execution time: {} seconds\".format(round(elasped_time,0)))\n",
    "print(\"Candidates: {}\".format(count_freq))\n",
    "print(\"Frequent itemsets: {}\".format(count_freq))"
   ]
  },
  {
   "cell_type": "code",
   "execution_count": 74,
   "metadata": {},
   "outputs": [],
   "source": [
    "patterns.to_csv(patterns_path,index =False)"
   ]
  },
  {
   "cell_type": "markdown",
   "metadata": {
    "deletable": false
   },
   "source": [
    "<h2>Find Maximal Itemsets (20 Points)</h2>\n",
    "\n",
    "<p style=\"text-align: justify;\">Find the maximal itemset among all the generated frequent patterns. You do not need to implement a maximal itemset mining algorithm (such as the Charm algorithm that allows for mining maximal itemsets without mining the frequent itemsets). Instead, you can simply iterate through the frequent itemsets and identify the maximal ones.\n",
    "\n",
    "<p style=\"text-align: justify;\">Finally, display the number of maximal patterns and the compression ratio in the following format (the provided values are hypothetical):\n",
    "\n",
    "    Frequent itemsets: 10,000\n",
    "    Maximal patterns: 1,500\n",
    "    Compression ratio: 85%\n",
    "\n",
    "As before, each line in your <i>maximal.csv</i> output file must contain one pattern, its support count, and support.\n",
    "</p>\n",
    "\n",
    "\n",
    "<p style=\"text-align: justify;\"><strong>Hint</strong>: Iterate through the frequent itemsets with the reverse order that were mined in the previous step, i.e., from the longest itemset(s) to shorter one(s). </p>\n"
   ]
  },
  {
   "cell_type": "code",
   "execution_count": 75,
   "metadata": {},
   "outputs": [],
   "source": [
    "# wrtie the code to implement and find maximal itemsets here\n",
    "# you can insert more cells below, if needed"
   ]
  },
  {
   "cell_type": "code",
   "execution_count": 76,
   "metadata": {},
   "outputs": [
    {
     "name": "stdout",
     "output_type": "stream",
     "text": [
      "Frequent itemsets: 72\n",
      "Maximal patterns: 42\n",
      "Compression ration: 42%\n"
     ]
    }
   ],
   "source": [
    "patterns[\"Pattern\"] = patterns[\"Pattern\"].apply(lambda x : frozenset(x.split(\"-\")))\n",
    "patterns[\"length\"] = patterns[\"Pattern\"].apply(lambda x : len(x))\n",
    "patterns = patterns.sort_values(by = \"length\", ascending = False).reset_index(drop = True)\n",
    "patterns[\"IsMaximal\"] = True\n",
    "for row in patterns.iterrows():\n",
    "    curindex = row[0]\n",
    "    subsets = patterns.loc[patterns.index != curindex]\n",
    "    for row1 in subsets.iterrows():\n",
    "        if(frozenset.issubset(row[1][\"Pattern\"],row1[1][\"Pattern\"])):\n",
    "            patterns.loc[row[0], \"IsMaximal\"] = False\n",
    "            break\n",
    "            \n",
    "patterns[\"Pattern\"]  = patterns[\"Pattern\"].apply(lambda x: \"-\".join(x))\n",
    "\n",
    "patterns[patterns[\"IsMaximal\"] == True][[\"Pattern\",\"Support_count\",\"support\"]].to_csv(maximal_path, index = False)\n",
    "MaxPatterns = len(patterns[patterns[\"IsMaximal\"] == True])\n",
    "compression = (len(patterns) - MaxPatterns)/len(patterns)\n",
    "print(\"Frequent itemsets: {}\".format(len(patterns)))\n",
    "print(\"Maximal patterns: {}\".format(MaxPatterns))\n",
    "print(\"Compression ration: {}%\".format(round(compression*100)))"
   ]
  },
  {
   "cell_type": "markdown",
   "metadata": {
    "deletable": false
   },
   "source": [
    "<h2>Mine the Association Rules (30 Points)</h2>\n",
    "\n",
    "\n",
    "<p style=\"text-align: justify;\">Implement association rule mining to generate strong association rules from the frequent itemsets generated in Step 1 using the below algorithm. Display the confidence for the top 20 rules with the highest confidence. Moreover, report the execution time as well as the number of strong rules in the following format (the provided values are hypothetical): </p>\n",
    "    \n",
    "    Execution time: 12 secodns \n",
    "    Strong rules: 2,300\n",
    "    Rule 1: A=>B,C, conf = 0.43\n",
    "    Rule 2: X=>Y, conf = 0.40\n",
    "\n",
    "Each line in the <i>rules.csv</i> file must contain one rule alongside its support count, support, and confidence. For example, A-B=>C,4,0.5,0.2 shows the support count, support, and confidence for the rule A-B=>C. "
   ]
  },
  {
   "cell_type": "code",
   "execution_count": 77,
   "metadata": {},
   "outputs": [],
   "source": [
    "# wrtie the code to implement and mine the association rules here\n",
    "# you can insert more cells below, if needed"
   ]
  },
  {
   "cell_type": "code",
   "execution_count": 78,
   "metadata": {},
   "outputs": [
    {
     "name": "stdout",
     "output_type": "stream",
     "text": [
      "Execution time: 0.0 seconds\n",
      "Strong rules: 4\n",
      "Rule 1: 39,41,38=>48, conf = 1.86\n",
      "Rule 2: 170=>38, conf = 0.98\n",
      "Rule 3: 110=>38, conf = 0.97\n",
      "Rule 4: 36=>38, conf = 0.95\n"
     ]
    }
   ],
   "source": [
    "curtime = time.time()\n",
    "\n",
    "from itertools import combinations\n",
    "\n",
    "rules = []\n",
    "for curpattern in patterns[\"Pattern\"].str.split(\"-\"):\n",
    "    for l in range(1,len(curpattern)):\n",
    "        for item in list(combinations(curpattern, l)):\n",
    "            antecedent = frozenset(item)\n",
    "            consequent = frozenset(filter(lambda x: x not in antecedent , curpattern))\n",
    "            rules.append((antecedent,consequent))\n",
    "\n",
    "patterns[\"Pattern\"] = patterns[\"Pattern\"].str.split(\"-\").apply(lambda x: frozenset(x))\n",
    "\n",
    "filteredrules = list(filter(lambda x: (x[0] in patterns[\"Pattern\"].values) and (x[1] in patterns[\"Pattern\"].values), rules))\n",
    "\n",
    "association_rule = []\n",
    "\n",
    "for rule in list(filteredrules):\n",
    "    antecedant = rule[0]\n",
    "    consequent = rule[1]\n",
    "    comb = list(antecedant)\n",
    "    comb.extend(list(consequent))\n",
    "    union = frozenset(comb)\n",
    "    \n",
    "    support_antecedant = patterns[patterns[\"Pattern\"] == antecedant][\"support\"].values[0]\n",
    "    support_union = patterns[patterns[\"Pattern\"] == union][\"support\"].values[0]\n",
    "    support_count_union = patterns[patterns[\"Pattern\"] == union][\"Support_count\"].values[0]\n",
    "    confidence_rule = support_union/support_antecedant\n",
    "    if confidence_rule >= min_confidence:\n",
    "        association_rule.append((rule, support_count_union,support_union,round(confidence_rule, 2)))\n",
    "        \n",
    "Strong_rules = sorted(association_rule, key = lambda x: x[3], reverse = True)\n",
    "Strong_rules = list(map(lambda x: (\"=>\".join([\",\".join(list(x[0][0])),\",\".join(list(x[0][1]))]),x[1],x[2],x[3]), Strong_rules))\n",
    "Strong_rules = pd.DataFrame(Strong_rules, columns = [\"Rule\", \"Support_Count\", \"Support\", \"Confidence\"])\n",
    "Strong_rules.to_csv(rules_path, index = False)\n",
    "\n",
    "top20rules = Strong_rules[:20]\n",
    "\n",
    "\n",
    "\n",
    "elasped_time = time.time() - curtime\n",
    "\n",
    "print(\"Execution time: {} seconds\".format(round(elasped_time,0)))\n",
    "print(f\"Strong rules: {len(Strong_rules)}\")\n",
    "for idx, rule in enumerate(top20rules.iterrows()):\n",
    "    print(f'Rule {idx+1}: {rule[1][\"Rule\"]}, conf = {rule[1][\"Confidence\"]}')"
   ]
  },
  {
   "cell_type": "markdown",
   "metadata": {
    "deletable": false
   },
   "source": [
    "<h2>Sensitivity Analysis (10 Points)</h2>\n",
    "\n",
    "\n",
    "<p style=\"text-align: justify;\">Run the frequent pattern mining function with the following values of minimum support and measure the total number of frequent patterns and generated candidates and the execution time. Next, draw three line plots using the matplotlib library that shows how minimum support (the x-axis) affects the runtime and the number of candidates and frequent itemsets (the y-axis). Note that x and y axes must have proper titles.\n",
    "    \n",
    "Minimum support values:\n",
    "    \n",
    "    0.0005, 0.001, 0.0015, 0.002, 0.0025, 0.003, 0.0035, 0.004, 0.0045, 0.005, 0.0055, 0.006, 0.0065, 0.007, 0.0075, 0.008, 0.0085, 0.009, 0.0095, 0.01\n"
   ]
  },
  {
   "cell_type": "code",
   "execution_count": 79,
   "metadata": {},
   "outputs": [],
   "source": [
    "support_vals = [0.0005, 0.001, 0.0015, 0.002, 0.0025,\n",
    "                0.003, 0.0035, 0.004, 0.0045, 0.005, \n",
    "                0.0055, 0.006, 0.0065, 0.007, 0.0075, \n",
    "                0.008, 0.0085, 0.009, 0.0095, 0.01]\n",
    "\n",
    "elapsed_time = []\n",
    "candidates = []\n",
    "frequent_itemsets = []\n",
    "for min_support in support_vals:\n",
    "    curtime = time.time()\n",
    "    patterns, count = getFrequentPatterns(sample, min_support)\n",
    "    el_time = time.time() - curtime\n",
    "    frequent_itemsets.append(count)\n",
    "    candidates.append(count)\n",
    "    elapsed_time.append(el_time)\n",
    "    "
   ]
  },
  {
   "cell_type": "code",
   "execution_count": 80,
   "metadata": {},
   "outputs": [],
   "source": [
    "import matplotlib.pyplot as plt\n",
    "%matplotlib inline"
   ]
  },
  {
   "cell_type": "code",
   "execution_count": 81,
   "metadata": {},
   "outputs": [
    {
     "data": {
      "text/plain": [
       "Text(0, 0.5, 'Elapsed Time')"
      ]
     },
     "execution_count": 81,
     "metadata": {},
     "output_type": "execute_result"
    },
    {
     "data": {
      "image/png": "[encoded data removed]",
      "text/plain": [
       "<Figure size 1440x360 with 2 Axes>"
      ]
     },
     "metadata": {
      "needs_background": "light"
     },
     "output_type": "display_data"
    }
   ],
   "source": [
    "fig,ax = plt.subplots(1,2, figsize = (20,5))\n",
    "ax = ax.flatten()\n",
    "ax[0].plot(support_vals, frequent_itemsets)\n",
    "ax[0].set_xlabel(\"Minimum Support\")\n",
    "ax[0].set_ylabel(\"Frequent items\")\n",
    "\n",
    "ax[1].plot(support_vals, elapsed_time)\n",
    "ax[1].set_xlabel(\"Minimum Support\")\n",
    "ax[1].set_ylabel(\"Elapsed Time\")"
   ]
  },
  {
   "cell_type": "code",
   "execution_count": null,
   "metadata": {},
   "outputs": [],
   "source": [
    "# wrtie the code here\n",
    "# you can insert more cells below, if needed"
   ]
  },
  {
   "cell_type": "markdown",
   "metadata": {
    "deletable": false
   },
   "source": [
    "<h3>Coding Considerations</h3>\n",
    "<p style=\"text-align: justify;\">You must consider the following in your implementations:</p>\n",
    "<ul>\n",
    "<li class=\"a\"><span> The output CSV files should be generated in the same directory of your code when you run it. Use the naming provided in the Implementation section. </span>\n",
    "<li class=\"a\"><span> You should write your code in this Jupyter Notebook (*.ipynb) file which can generate the required reports itself.</span>\n",
    "<li class=\"a\"><span> Your code should be self-explanatory. Make sure you add comments and your output files are formatted correctly. You might lose up to 30 points for bad code quality (readability, modularity, comments, efficiency, etc.) and formatting of the output files.</span></li>\n",
    "</ul>"
   ]
  },
  {
   "cell_type": "markdown",
   "metadata": {
    "deletable": false
   },
   "source": [
    "<h2>Submission</h2>\n",
    "<p style=\"text-align: justify;\">Your python file or Jupyter Notebook file must generate all the abovementioned reports when you run it.</p>\n",
    "<p style=\"text-align: justify;\">You need to submit a zip file in Canvas, including the following items: \n",
    "\n",
    "<ul>\n",
    "<li class=\"a\"><span> a Jupyter Notebook (*.ipynb) file, named assignment3.ipynb that contains your completed code </span>\n",
    "<li class=\"a\"><span> patterns.csv that contains the frequent patterns</span>\n",
    "<li class=\"a\"><span> maximal.csv that contains the maximal patterns</span>\n",
    "<li class=\"a\"><span> rules.csv that contains the association rules</span>\n",
    "<li class=\"a\"><span> results.pdf: a pdf file that contains all the requested charts and outputs (only copy the outputs (not the code itself) from your Notebook to this file. Also do not include the patterns and their supports in this file.)</span>\n",
    "    \n",
    "</li>\n",
    "</ul>\n",
    "    \n",
    "<span style=\"background-color: #ffff99;\">The file name should be in <strong>FirstName_LastName</strong> format</span>.</p>\n",
    "<p style=\"text-align: justify;\"><span style=\"background-color: #ffff99;\">DO NOT INCLUDE EXTRA FILES, SUCH AS THE INPUT DATASETS</span>, in your submission;</p>\n",
    "<p style=\"text-align: justify;\">Please download your assignment after submission and make sure it is not corrupted or empty! We will not be responsible for corrupted submissions and will not take a resubmission after the deadline.</p>"
   ]
  },
  {
   "cell_type": "markdown",
   "metadata": {
    "deletable": false,
    "editable": false
   },
   "source": [
    "<h2>Need Help?</h2>\n",
    "<p>If you need help with this assignment, please get in touch with Erfan (on MS Teams or via email at <a href=\"mailto:erfan.jafarikhademzavareh@ucdenver.edu\">Erfan.jafarikhademzavareh@ucdenver.edu</a>) or go to his office hours.</p>\n",
    "<p>&nbsp;</p>\n",
    "<p>You are highly encouraged to ask your question on the designated channel for Assignment 2 on Microsoft Teams (not necessarily monitored by the instructor/TA). Feel free to help other students with general questions. However, DO NOT share your solution.</p>"
   ]
  },
  {
   "cell_type": "code",
   "execution_count": null,
   "metadata": {},
   "outputs": [],
   "source": []
  }
 ],
 "metadata": {
  "celltoolbar": "Edit Metadata",
  "kernelspec": {
   "display_name": "Python 3",
   "language": "python",
   "name": "python3"
  },
  "language_info": {
   "codemirror_mode": {
    "name": "ipython",
    "version": 3
   },
   "file_extension": ".py",
   "mimetype": "text/x-python",
   "name": "python",
   "nbconvert_exporter": "python",
   "pygments_lexer": "ipython3",
   "version": "3.8.5"
  }
 },
 "nbformat": 4,
 "nbformat_minor": 2
}
