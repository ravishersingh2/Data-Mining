{
 "cells": [
  {
   "cell_type": "markdown",
   "metadata": {},
   "source": [
    "<h1><strong>CSCI 4455/5455&ndash; Fall 2021</strong></h1>\n",
    "\n",
    "<h2><strong>Assignment 1 - Know Your Data & Data Preprocessing</strong></h2>\n",
    "\n",
    "<h3><strong><span style=\"color:#cc3300;\">Due: October 06, 11:59pm </span></strong></h3>\n",
    "\n",
    "<h3><strong>Your name:</strong></h3>"
   ]
  },
  {
   "cell_type": "markdown",
   "metadata": {},
   "source": [
    "<ul>\n",
    "\t<li style=\"text-align: justify;\">Please note that you must do this assignment&nbsp;<span style=\"color:#cc3300;\"><strong><u>individually</u></strong></span>. Using automatic tools, your code will be checked against other submissions and other existing resources (such as websites and books).</li>\n",
    "\t<li style=\"text-align: justify;\">Check Canvas regularly for possible clarifications and updates.</li>\n",
    "</ul>"
   ]
  },
  {
   "cell_type": "markdown",
   "metadata": {},
   "source": [
    "<h2>Similarity Measurement (50 points total)</h2>\n",
    "\n",
    "<p style=\"text-align: justify;\">In this part of the assignment, we are trying to get familiar with defining or selecting the right similarity measurement in data analysis. Let’s take a look at a two-dimensional data set below. The dataset has 40 points distributed between 0 to 2 on two axes of A1 and A2.</p>"
   ]
  },
  {
   "cell_type": "code",
   "execution_count": 57,
   "metadata": {
    "pycharm": {
     "name": "#%%\n"
    }
   },
   "outputs": [
    {
     "data": {
      "text/html": [
       "<style>\n",
       "li.a {\n",
       "  list-style-type: square;\n",
       "  font-size: 20px;\n",
       "}\n",
       "\n",
       "li.a span {\n",
       "\tfont-size: 14px;\n",
       "}\n",
       "\n",
       "li.b {\n",
       "  list-style-type: circle;\n",
       "  font-size: 18px;\n",
       "}\n",
       "\n",
       "li.b span {\n",
       "\tfont-size: 14px;\n",
       "}\n",
       "\n",
       "p.note {\n",
       "\ttext-decoration: underline;\n",
       "\ttext-shadow: 2px 2px 5px green;\n",
       "}\n",
       "</style>\n",
       "\n",
       "\n"
      ],
      "text/plain": [
       "<IPython.core.display.HTML object>"
      ]
     },
     "execution_count": 57,
     "metadata": {},
     "output_type": "execute_result"
    }
   ],
   "source": [
    "# Do Not Edit This Cell\n",
    "import pandas as pd\n",
    "import numpy as np\n",
    "import math\n",
    "import matplotlib.pyplot as plt\n",
    "import warnings\n",
    "%matplotlib inline\n",
    "from IPython.core.display import HTML\n",
    "\n",
    "warnings.filterwarnings('ignore')\n",
    "\n",
    "def css_styling():\n",
    "    styles = open(\"./styles/custom.css\", \"r\").read()\n",
    "    return HTML(styles)\n",
    "css_styling()"
   ]
  },
  {
   "cell_type": "code",
   "execution_count": 58,
   "metadata": {},
   "outputs": [],
   "source": [
    "# Do Not Edit This Cell\n",
    "dataset_path = r'dataset.csv'"
   ]
  },
  {
   "cell_type": "markdown",
   "metadata": {},
   "source": [
    "We're loading the dataset and checking the first 10 rows."
   ]
  },
  {
   "cell_type": "code",
   "execution_count": 59,
   "metadata": {},
   "outputs": [
    {
     "data": {
      "text/html": [
       "<div>\n",
       "<style scoped>\n",
       "    .dataframe tbody tr th:only-of-type {\n",
       "        vertical-align: middle;\n",
       "    }\n",
       "\n",
       "    .dataframe tbody tr th {\n",
       "        vertical-align: top;\n",
       "    }\n",
       "\n",
       "    .dataframe thead th {\n",
       "        text-align: right;\n",
       "    }\n",
       "</style>\n",
       "<table border=\"1\" class=\"dataframe\">\n",
       "  <thead>\n",
       "    <tr style=\"text-align: right;\">\n",
       "      <th></th>\n",
       "      <th>point</th>\n",
       "      <th>A1</th>\n",
       "      <th>A2</th>\n",
       "    </tr>\n",
       "  </thead>\n",
       "  <tbody>\n",
       "    <tr>\n",
       "      <th>0</th>\n",
       "      <td>x1</td>\n",
       "      <td>1.3</td>\n",
       "      <td>1.6</td>\n",
       "    </tr>\n",
       "    <tr>\n",
       "      <th>1</th>\n",
       "      <td>x2</td>\n",
       "      <td>1.6</td>\n",
       "      <td>0.9</td>\n",
       "    </tr>\n",
       "    <tr>\n",
       "      <th>2</th>\n",
       "      <td>x3</td>\n",
       "      <td>0.1</td>\n",
       "      <td>0.7</td>\n",
       "    </tr>\n",
       "    <tr>\n",
       "      <th>3</th>\n",
       "      <td>x4</td>\n",
       "      <td>1.7</td>\n",
       "      <td>1.8</td>\n",
       "    </tr>\n",
       "    <tr>\n",
       "      <th>4</th>\n",
       "      <td>x5</td>\n",
       "      <td>1.8</td>\n",
       "      <td>1.2</td>\n",
       "    </tr>\n",
       "    <tr>\n",
       "      <th>5</th>\n",
       "      <td>x6</td>\n",
       "      <td>0.3</td>\n",
       "      <td>1.1</td>\n",
       "    </tr>\n",
       "    <tr>\n",
       "      <th>6</th>\n",
       "      <td>x7</td>\n",
       "      <td>1.2</td>\n",
       "      <td>1.3</td>\n",
       "    </tr>\n",
       "    <tr>\n",
       "      <th>7</th>\n",
       "      <td>x8</td>\n",
       "      <td>0.1</td>\n",
       "      <td>0.7</td>\n",
       "    </tr>\n",
       "    <tr>\n",
       "      <th>8</th>\n",
       "      <td>x9</td>\n",
       "      <td>1.0</td>\n",
       "      <td>0.1</td>\n",
       "    </tr>\n",
       "    <tr>\n",
       "      <th>9</th>\n",
       "      <td>x10</td>\n",
       "      <td>0.8</td>\n",
       "      <td>0.2</td>\n",
       "    </tr>\n",
       "  </tbody>\n",
       "</table>\n",
       "</div>"
      ],
      "text/plain": [
       "  point   A1   A2\n",
       "0    x1  1.3  1.6\n",
       "1    x2  1.6  0.9\n",
       "2    x3  0.1  0.7\n",
       "3    x4  1.7  1.8\n",
       "4    x5  1.8  1.2\n",
       "5    x6  0.3  1.1\n",
       "6    x7  1.2  1.3\n",
       "7    x8  0.1  0.7\n",
       "8    x9  1.0  0.1\n",
       "9   x10  0.8  0.2"
      ]
     },
     "execution_count": 59,
     "metadata": {},
     "output_type": "execute_result"
    }
   ],
   "source": [
    "# Do Not Edit This Cell\n",
    "dataframe = pd.read_csv(dataset_path)\n",
    "dataframe.head(10)"
   ]
  },
  {
   "cell_type": "markdown",
   "metadata": {},
   "source": [
    "Getting the summary statistics"
   ]
  },
  {
   "cell_type": "code",
   "execution_count": 60,
   "metadata": {},
   "outputs": [
    {
     "data": {
      "text/html": [
       "<div>\n",
       "<style scoped>\n",
       "    .dataframe tbody tr th:only-of-type {\n",
       "        vertical-align: middle;\n",
       "    }\n",
       "\n",
       "    .dataframe tbody tr th {\n",
       "        vertical-align: top;\n",
       "    }\n",
       "\n",
       "    .dataframe thead th {\n",
       "        text-align: right;\n",
       "    }\n",
       "</style>\n",
       "<table border=\"1\" class=\"dataframe\">\n",
       "  <thead>\n",
       "    <tr style=\"text-align: right;\">\n",
       "      <th></th>\n",
       "      <th>A1</th>\n",
       "      <th>A2</th>\n",
       "    </tr>\n",
       "  </thead>\n",
       "  <tbody>\n",
       "    <tr>\n",
       "      <th>count</th>\n",
       "      <td>40.000000</td>\n",
       "      <td>40.000000</td>\n",
       "    </tr>\n",
       "    <tr>\n",
       "      <th>mean</th>\n",
       "      <td>0.945000</td>\n",
       "      <td>1.062500</td>\n",
       "    </tr>\n",
       "    <tr>\n",
       "      <th>std</th>\n",
       "      <td>0.615588</td>\n",
       "      <td>0.540981</td>\n",
       "    </tr>\n",
       "    <tr>\n",
       "      <th>min</th>\n",
       "      <td>0.100000</td>\n",
       "      <td>0.100000</td>\n",
       "    </tr>\n",
       "    <tr>\n",
       "      <th>25%</th>\n",
       "      <td>0.375000</td>\n",
       "      <td>0.675000</td>\n",
       "    </tr>\n",
       "    <tr>\n",
       "      <th>50%</th>\n",
       "      <td>0.900000</td>\n",
       "      <td>1.100000</td>\n",
       "    </tr>\n",
       "    <tr>\n",
       "      <th>75%</th>\n",
       "      <td>1.600000</td>\n",
       "      <td>1.500000</td>\n",
       "    </tr>\n",
       "    <tr>\n",
       "      <th>max</th>\n",
       "      <td>1.900000</td>\n",
       "      <td>1.900000</td>\n",
       "    </tr>\n",
       "  </tbody>\n",
       "</table>\n",
       "</div>"
      ],
      "text/plain": [
       "              A1         A2\n",
       "count  40.000000  40.000000\n",
       "mean    0.945000   1.062500\n",
       "std     0.615588   0.540981\n",
       "min     0.100000   0.100000\n",
       "25%     0.375000   0.675000\n",
       "50%     0.900000   1.100000\n",
       "75%     1.600000   1.500000\n",
       "max     1.900000   1.900000"
      ]
     },
     "execution_count": 60,
     "metadata": {},
     "output_type": "execute_result"
    }
   ],
   "source": [
    "# Do Not Edit This Cell\n",
    "dataframe.describe()"
   ]
  },
  {
   "cell_type": "markdown",
   "metadata": {},
   "source": [
    "and checking the number of records"
   ]
  },
  {
   "cell_type": "code",
   "execution_count": 61,
   "metadata": {},
   "outputs": [
    {
     "data": {
      "text/plain": [
       "40"
      ]
     },
     "execution_count": 61,
     "metadata": {},
     "output_type": "execute_result"
    }
   ],
   "source": [
    "# Do Not Edit This Cell\n",
    "len(dataframe)"
   ]
  },
  {
   "cell_type": "markdown",
   "metadata": {},
   "source": [
    "<h2>Ranking Data in a Data Set</h2>\n",
    "<p style=\"text-align: justify;\">Consider a new point as an input argument to the functions below. Given the new data point, rank the data points in the dataset based on their similarity to the input point using the techniques you learned in the class.</p>"
   ]
  },
  {
   "cell_type": "markdown",
   "metadata": {},
   "source": [
    "<h3>Euclidian Distance (10 points)</h3>\n",
    "<p style=\"text-align: justify;\">Complete the function below</p>\n",
    "<ul>\n",
    "    <li class=\"a\"> <span> Parameters: </span>\n",
    "<ul>\n",
    "<li class=\"b\"><span>a list of the existing points as tuples</span></li>\n",
    "<li class=\"b\"><span>input point as a list or tuple</span></li>\n",
    "</ul>\n",
    "<li class=\"a\"><span>Returns a list containing the similarity based on Euclidean distance</span></li>\n",
    "</ul>"
   ]
  },
  {
   "cell_type": "code",
   "execution_count": 6,
   "metadata": {},
   "outputs": [],
   "source": [
    "def euclidean_distance(values, input_point):\n",
    "    similarity = []\n",
    "    for val in values:\n",
    "        sqsum = 0\n",
    "        for x,y in zip(input_point,val):\n",
    "            sqsum += (x-y)**2\n",
    "        similarity.append(np.sqrt(sqsum))\n",
    "    return similarity"
   ]
  },
  {
   "cell_type": "code",
   "execution_count": 7,
   "metadata": {},
   "outputs": [
    {
     "name": "stdout",
     "output_type": "stream",
     "text": [
      "   point   A1   A2  Euclidean Distance\n",
      "1     x2  1.6  0.9            0.100000\n",
      "29   x30  1.6  0.9            0.100000\n",
      "22   x23  1.9  1.1            0.282843\n",
      "14   x15  1.7  0.6            0.300000\n",
      "4     x5  1.8  1.2            0.316228\n",
      "37   x38  1.9  0.6            0.360555\n",
      "27   x28  1.6  0.5            0.412311\n",
      "20   x21  1.3  1.1            0.447214\n",
      "13   x14  1.2  1.2            0.583095\n",
      "6     x7  1.2  1.3            0.640312\n"
     ]
    }
   ],
   "source": [
    "# Do Not Edit This Cell\n",
    "list_of_points = list(zip(dataframe.A1, dataframe.A2)) # Get the list of existing points\n",
    "test_point = (1.7, 0.9) # A test point to find the distances\n",
    "euclidean_similarity = euclidean_distance(list_of_points, test_point) # Calling the euclidean_distance function\n",
    "dataframe['Euclidean Distance'] = euclidean_similarity # Adding the results to the dataframe\n",
    "dataframe.sort_values('Euclidean Distance', inplace=True) # Sorting the dataframe based on the Euclidean similarity\n",
    "print(dataframe.head(10))"
   ]
  },
  {
   "cell_type": "markdown",
   "metadata": {},
   "source": [
    "<h3>Manhattan Distance (10 points)</h3>\n",
    "<p style=\"text-align: justify;\">Complete the function below</p>\n",
    "<ul>\n",
    "    <li class=\"a\"> <span> Parameters: </span>\n",
    "<ul>\n",
    "<li class=\"b\"><span>a list of the existing points as tuples</span></li>\n",
    "<li class=\"b\"><span>input point as a list or tuple</span></li>\n",
    "</ul>\n",
    "<li class=\"a\"><span>Returns a list containing the similarity based on Manhattan distance</span></li>\n",
    "</ul>"
   ]
  },
  {
   "cell_type": "code",
   "execution_count": 8,
   "metadata": {},
   "outputs": [],
   "source": [
    "def manhattan_distance(values, input_point):\n",
    "    similarity = []\n",
    "            \n",
    "    for val in values:\n",
    "        abssum = 0\n",
    "        for x,y in zip(input_point,val):\n",
    "            abssum += abs(x-y)\n",
    "        similarity.append(abssum)\n",
    "\n",
    "    return similarity"
   ]
  },
  {
   "cell_type": "code",
   "execution_count": 9,
   "metadata": {},
   "outputs": [
    {
     "name": "stdout",
     "output_type": "stream",
     "text": [
      "   point   A1   A2  Euclidean Distance  Manhattan Distance\n",
      "29   x30  1.6  0.9            0.100000                 0.1\n",
      "12   x13  0.4  1.3            1.360147                 0.1\n",
      "0     x1  1.3  1.6            0.806226                 0.3\n",
      "4     x5  1.8  1.2            0.316228                 0.4\n",
      "18   x19  0.6  0.8            1.104536                 0.4\n",
      "31   x32  0.4  1.1            1.315295                 0.5\n",
      "35   x36  0.1  1.3            1.649242                 0.5\n",
      "8     x9  1.0  0.1            1.063015                 0.6\n",
      "10   x11  1.0  1.0            0.707107                 0.8\n",
      "15   x16  1.6  0.1            0.806226                 0.8\n"
     ]
    }
   ],
   "source": [
    "# Do Not Edit This Cell\n",
    "manhattan_similarity = manhattan_distance(list_of_points, test_point) # Calling the manhattan_distance function\n",
    "dataframe['Manhattan Distance'] = manhattan_similarity # Adding the results to the dataframe\n",
    "dataframe.sort_values('Manhattan Distance', inplace=True) # Sorting the dataframe based on the Manhattan similarity\n",
    "print(dataframe.head(10))"
   ]
  },
  {
   "cell_type": "markdown",
   "metadata": {},
   "source": [
    "<h3>Supremum Distance (10 points)</h3>\n",
    "<p style=\"text-align: justify;\">Complete the function below</p>\n",
    "<ul>\n",
    "    <li class=\"a\"> <span> Parameters: </span>\n",
    "<ul>\n",
    "<li class=\"b\"><span>a list of the existing points as tuples</span></li>\n",
    "<li class=\"b\"><span>input point as a list or tuple</span></li>\n",
    "</ul>\n",
    "<li class=\"a\"><span>Returns a list containing the similarity based on Supremum distance</span></li>\n",
    "</ul>"
   ]
  },
  {
   "cell_type": "code",
   "execution_count": 10,
   "metadata": {},
   "outputs": [],
   "source": [
    "def supremum_distance(values, input_point):\n",
    "    similarity = []\n",
    "            \n",
    "    for val in values:\n",
    "        absdif = []\n",
    "        for x,y in zip(input_point,val):\n",
    "            absdif.append(abs(x-y))\n",
    "        similarity.append(np.max(absdif))\n",
    "\n",
    "    return similarity"
   ]
  },
  {
   "cell_type": "code",
   "execution_count": 11,
   "metadata": {},
   "outputs": [
    {
     "name": "stdout",
     "output_type": "stream",
     "text": [
      "   point   A1   A2  Euclidean Distance  Manhattan Distance  Supremum Distance\n",
      "12   x13  0.4  1.3            1.360147                 0.1                0.1\n",
      "20   x21  1.3  1.1            0.447214                 1.8                0.1\n",
      "21   x22  0.2  1.3            1.552417                 1.5                0.2\n",
      "18   x19  0.6  0.8            1.104536                 0.4                0.3\n",
      "26   x27  0.1  1.1            1.612452                 2.1                0.3\n",
      "27   x28  1.6  0.5            0.412311                 0.9                0.3\n",
      "7     x8  0.1  0.7            1.612452                 1.4                0.4\n",
      "19   x20  1.7  0.1            0.800000                 1.7                0.4\n",
      "35   x36  0.1  1.3            1.649242                 0.5                0.5\n",
      "14   x15  1.7  0.6            0.300000                 0.9                0.5\n"
     ]
    }
   ],
   "source": [
    "# Do Not Edit This Cell\n",
    "supremum_similarity = supremum_distance(list_of_points, test_point) # Calling the supremum_distance function\n",
    "dataframe['Supremum Distance'] = supremum_similarity # Adding the results to the dataframe\n",
    "dataframe.sort_values('Supremum Distance', inplace=True) # Sorting the dataframe based on the Supremum similarity\n",
    "print(dataframe.head(10))"
   ]
  },
  {
   "cell_type": "markdown",
   "metadata": {},
   "source": [
    "<h3>Normalization (10 points)</h3>\n",
    "Normalize the data set such that the normalized value of each data point is less than 1. Try using the Euclidean distance function on the new transformed data to rank the data points.\n",
    "<p style=\"text-align: justify;\">Complete the function below</p>\n",
    "<ul>\n",
    "    <li class=\"a\"> <span> Parameters: </span>\n",
    "<ul>\n",
    "<li class=\"b\"><span>a dataframe that has two columns named \"A1\" and \"A2\"</span></li>\n",
    "</ul>\n",
    "<li class=\"a\"><span>Returns a new dataframe with normalized columns \"A1\" and \"A2\" such that the normalized value of each data point is less than 1</span></li>\n",
    "</ul>"
   ]
  },
  {
   "cell_type": "code",
   "execution_count": 12,
   "metadata": {},
   "outputs": [],
   "source": [
    "from sklearn.preprocessing import MinMaxScaler"
   ]
  },
  {
   "cell_type": "code",
   "execution_count": 13,
   "metadata": {},
   "outputs": [],
   "source": [
    "def normalize_df(input_df):\n",
    "    normalize_df = input_df.copy(deep=True)\n",
    "    \n",
    "    eps = 0.0001\n",
    "    \n",
    "    for col in [\"A1\",\"A2\"]:\n",
    "        minval = normalize_df[col].min()\n",
    "        maxval = normalize_df[col].max() + eps ## To handle the case of max value, max value should be little less than 1\n",
    "        normalize_df[col] = (normalize_df[col] - minval)/(maxval - minval)\n",
    "\n",
    "    return normalize_df"
   ]
  },
  {
   "cell_type": "code",
   "execution_count": 14,
   "metadata": {},
   "outputs": [
    {
     "name": "stdout",
     "output_type": "stream",
     "text": [
      "   point        A1        A2  Euclidean Distance  Norm Euclidean Distance\n",
      "29   x30  0.833287  0.444420            0.100000                 0.055704\n",
      "1     x2  0.833287  0.444420            0.100000                 0.055704\n",
      "22   x23  0.999944  0.555525            0.282843                 0.145491\n",
      "4     x5  0.944392  0.611077            0.316228                 0.155471\n",
      "14   x15  0.888840  0.277762            0.300000                 0.190204\n",
      "37   x38  0.999944  0.277762            0.360555                 0.222805\n",
      "20   x21  0.666630  0.555525            0.447214                 0.234182\n",
      "27   x28  0.833287  0.222210            0.412311                 0.250829\n",
      "13   x14  0.611077  0.611077            0.583095                 0.308022\n",
      "6     x7  0.611077  0.666630            0.640312                 0.337448\n"
     ]
    }
   ],
   "source": [
    "# Do Not Edit This Cell\n",
    "normalized_df = normalize_df(dataframe) # Calling the normalize_df function to normalize the dataframe\n",
    "norm_list_of_points = list(zip(normalized_df.A1, normalized_df.A2)) # Get the list of existing points\n",
    "norm_test_point = (0.8838, 0.4679) # A normalized test point to find the distances\n",
    "euclidean_similarity = euclidean_distance(norm_list_of_points, norm_test_point) # Calling the euclidean_distance function\n",
    "normalized_df['Norm Euclidean Distance'] = euclidean_similarity # Adding the results to the dataframe\n",
    "normalized_df.sort_values('Norm Euclidean Distance', inplace=True) # Sorting the dataframe based on the Euclidean similarity\n",
    "normalized_df.drop(['Manhattan Distance', 'Supremum Distance'], axis=1, inplace=True) # Removing Manhattan and Supremum columns to compare the Euclidean columns\n",
    "print(normalized_df.head(10))"
   ]
  },
  {
   "cell_type": "markdown",
   "metadata": {},
   "source": [
    "<h3>Analysis (10 points)</h3>\n",
    "<p style=\"text-align: justify;\">Based on the above analyses, explain the difference between similarity methods.</p>"
   ]
  },
  {
   "cell_type": "markdown",
   "metadata": {},
   "source": [
    "<p><strong>Your answer:</strong></p>\n"
   ]
  },
  {
   "cell_type": "markdown",
   "metadata": {},
   "source": [
    "The 3 similarity measures serves different purposes\n",
    "\n",
    "1) Euclidean Distance : Useful when we need the shortest possible path. Useful in calculating distance between 2 vectors.\n",
    "\n",
    "2) Manhattan Distance : Useful in navigation applications, when the distance is not diagonal, rather it is like city blocks. Manhattan distance is also called city block distance as well.\n",
    "\n",
    "3) Supremum Distance : Also called chebyshev distance, it is used in warehouse logistics."
   ]
  },
  {
   "cell_type": "markdown",
   "metadata": {},
   "source": [
    "<h2>Data Preprocessing (50 points total)</h2>\n",
    "<p style=\"text-align: justify;\">In this part of the assignment, we are trying to get familiar with different functions that can be used in preprocessing data. Suppose CU Denver Anschutz tested body fat and age of 120 randomly selected volunteers.</p>"
   ]
  },
  {
   "cell_type": "code",
   "execution_count": 15,
   "metadata": {},
   "outputs": [],
   "source": [
    "# Do Not Edit This Cell\n",
    "dataset_path = r'dataset2.csv'"
   ]
  },
  {
   "cell_type": "code",
   "execution_count": 16,
   "metadata": {},
   "outputs": [
    {
     "data": {
      "text/html": [
       "<div>\n",
       "<style scoped>\n",
       "    .dataframe tbody tr th:only-of-type {\n",
       "        vertical-align: middle;\n",
       "    }\n",
       "\n",
       "    .dataframe tbody tr th {\n",
       "        vertical-align: top;\n",
       "    }\n",
       "\n",
       "    .dataframe thead th {\n",
       "        text-align: right;\n",
       "    }\n",
       "</style>\n",
       "<table border=\"1\" class=\"dataframe\">\n",
       "  <thead>\n",
       "    <tr style=\"text-align: right;\">\n",
       "      <th></th>\n",
       "      <th>Age</th>\n",
       "      <th>Fat</th>\n",
       "    </tr>\n",
       "  </thead>\n",
       "  <tbody>\n",
       "    <tr>\n",
       "      <th>0</th>\n",
       "      <td>21</td>\n",
       "      <td>32.3</td>\n",
       "    </tr>\n",
       "    <tr>\n",
       "      <th>1</th>\n",
       "      <td>21</td>\n",
       "      <td>36.6</td>\n",
       "    </tr>\n",
       "    <tr>\n",
       "      <th>2</th>\n",
       "      <td>22</td>\n",
       "      <td>11.9</td>\n",
       "    </tr>\n",
       "    <tr>\n",
       "      <th>3</th>\n",
       "      <td>22</td>\n",
       "      <td>12.9</td>\n",
       "    </tr>\n",
       "    <tr>\n",
       "      <th>4</th>\n",
       "      <td>24</td>\n",
       "      <td>37.3</td>\n",
       "    </tr>\n",
       "    <tr>\n",
       "      <th>5</th>\n",
       "      <td>24</td>\n",
       "      <td>31.9</td>\n",
       "    </tr>\n",
       "    <tr>\n",
       "      <th>6</th>\n",
       "      <td>24</td>\n",
       "      <td>30.7</td>\n",
       "    </tr>\n",
       "    <tr>\n",
       "      <th>7</th>\n",
       "      <td>25</td>\n",
       "      <td>12.5</td>\n",
       "    </tr>\n",
       "    <tr>\n",
       "      <th>8</th>\n",
       "      <td>26</td>\n",
       "      <td>31.0</td>\n",
       "    </tr>\n",
       "    <tr>\n",
       "      <th>9</th>\n",
       "      <td>26</td>\n",
       "      <td>26.2</td>\n",
       "    </tr>\n",
       "    <tr>\n",
       "      <th>10</th>\n",
       "      <td>27</td>\n",
       "      <td>14.9</td>\n",
       "    </tr>\n",
       "    <tr>\n",
       "      <th>11</th>\n",
       "      <td>27</td>\n",
       "      <td>18.7</td>\n",
       "    </tr>\n",
       "    <tr>\n",
       "      <th>12</th>\n",
       "      <td>27</td>\n",
       "      <td>14.3</td>\n",
       "    </tr>\n",
       "    <tr>\n",
       "      <th>13</th>\n",
       "      <td>27</td>\n",
       "      <td>32.4</td>\n",
       "    </tr>\n",
       "    <tr>\n",
       "      <th>14</th>\n",
       "      <td>27</td>\n",
       "      <td>22.2</td>\n",
       "    </tr>\n",
       "    <tr>\n",
       "      <th>15</th>\n",
       "      <td>28</td>\n",
       "      <td>9.3</td>\n",
       "    </tr>\n",
       "    <tr>\n",
       "      <th>16</th>\n",
       "      <td>28</td>\n",
       "      <td>37.8</td>\n",
       "    </tr>\n",
       "    <tr>\n",
       "      <th>17</th>\n",
       "      <td>29</td>\n",
       "      <td>25.3</td>\n",
       "    </tr>\n",
       "    <tr>\n",
       "      <th>18</th>\n",
       "      <td>29</td>\n",
       "      <td>24.4</td>\n",
       "    </tr>\n",
       "    <tr>\n",
       "      <th>19</th>\n",
       "      <td>29</td>\n",
       "      <td>15.4</td>\n",
       "    </tr>\n",
       "  </tbody>\n",
       "</table>\n",
       "</div>"
      ],
      "text/plain": [
       "    Age   Fat\n",
       "0    21  32.3\n",
       "1    21  36.6\n",
       "2    22  11.9\n",
       "3    22  12.9\n",
       "4    24  37.3\n",
       "5    24  31.9\n",
       "6    24  30.7\n",
       "7    25  12.5\n",
       "8    26  31.0\n",
       "9    26  26.2\n",
       "10   27  14.9\n",
       "11   27  18.7\n",
       "12   27  14.3\n",
       "13   27  32.4\n",
       "14   27  22.2\n",
       "15   28   9.3\n",
       "16   28  37.8\n",
       "17   29  25.3\n",
       "18   29  24.4\n",
       "19   29  15.4"
      ]
     },
     "execution_count": 16,
     "metadata": {},
     "output_type": "execute_result"
    }
   ],
   "source": [
    "# Do Not Edit This Cell\n",
    "dataframe2 = pd.read_csv(dataset_path)\n",
    "dataframe2.head(20)"
   ]
  },
  {
   "cell_type": "markdown",
   "metadata": {},
   "source": [
    "<h3>Statistical Function (10 points)</h3>\n",
    "<p style=\"text-align: justify;\">Complete the function below. It will take a list of float numbers and returns the statistics of the records in the list.</p>\n",
    "<ul>\n",
    "<li class=\"a\"><span>Parameters</span>:\n",
    "<ul>\n",
    "<li class=\"b\"><span>a list of float numbers</span></li>\n",
    "</ul>\n",
    "</li>\n",
    "<li class=\"a\"><span>Returns a tuple of <em>mean</em>, <em>median</em>, and <em>standard deviation</em> of the input list</span>.</li>\n",
    "</ul>\n",
    "<p class=\"note\">Note: Please write the mean, median, and standard deviation from scratch! You're allowed to use the math library only :)</p>"
   ]
  },
  {
   "cell_type": "code",
   "execution_count": 17,
   "metadata": {},
   "outputs": [],
   "source": [
    "def statistical_report(values):\n",
    "    mean_out = 0.0 # Initializing the mean variable\n",
    "    median_out = 0.0 # Initializing the median variable\n",
    "    std_out = 0.0 # Initializing the standard deviation variable\n",
    "    # Write your code here\n",
    "    \n",
    "    n = len(values)\n",
    "    \n",
    "    # Calculating the mean\n",
    "    for val in values:\n",
    "        mean_out += val\n",
    "    mean_out = mean_out/n\n",
    "    \n",
    "    # Calculating the median\n",
    "    \n",
    "    values.sort_values()\n",
    "    if n % 2 == 0:\n",
    "        median1 = values[n//2]\n",
    "        median2 = values[n//2 - 1]\n",
    "        median_out = (median1 + median2)/2\n",
    "    else:\n",
    "        median_out = values[n//2]\n",
    "\n",
    "    # Calculating the standard deviation\n",
    "    \n",
    "    var = 0\n",
    "    for val in values:\n",
    "        var += (val - mean_out)**2\n",
    "    var = var/n\n",
    "    std_out = math.sqrt(var)\n",
    "    \n",
    "\n",
    "    return mean_out, median_out, std_out"
   ]
  },
  {
   "cell_type": "code",
   "execution_count": 18,
   "metadata": {},
   "outputs": [
    {
     "name": "stdout",
     "output_type": "stream",
     "text": [
      "Age:\tmean: 44.44\tmedian: 45.50\tstandard deviation: 12.48\n",
      "Fat:\tmean: 24.33\tmedian: 12.35\tstandard deviation: 11.26\n"
     ]
    }
   ],
   "source": [
    "# Do Not Edit This Cell\n",
    "col_statistics = []\n",
    "for column in dataframe2:\n",
    "    col_mean, col_median, col_std = statistical_report(dataframe2[column])\n",
    "    col_statistics.append((column, col_mean, col_median, col_std))\n",
    "    print(\"{}:\\tmean: {:.2f}\\tmedian: {:.2f}\\tstandard deviation: {:.2f}\".format(column, col_mean, col_median, col_std))"
   ]
  },
  {
   "cell_type": "markdown",
   "metadata": {},
   "source": [
    "<h3>Scatter Function (5 points)</h3>\n",
    "<p style=\"text-align: justify;\">Complete the function below. It will take a Pandas DataFrame and draws a scatter plot based on the first two column values.</p>\n",
    "<ul>\n",
    "    <li class=\"a\"><span>Parameters</span>:\n",
    "<ul>\n",
    "<li class=\"b\"><span>a Pandas DataFrame consisting of at least two columns</span></li>\n",
    "</ul>\n",
    "</li>\n",
    "<li class=\"a\"><span>It will draw a <em>scatter plot</em> of the first two columns of the input DataFrame.</span></li>\n",
    "</ul>\n",
    "<p class=\"note\">Note: Make sure the plot has title and axes names.</p>"
   ]
  },
  {
   "cell_type": "code",
   "execution_count": 71,
   "metadata": {},
   "outputs": [],
   "source": [
    "import matplotlib.pyplot as plt\n",
    "def scatter_plot(input_df):\n",
    "    # Write your code here\n",
    "     # Write your code here\n",
    "    df = pd.DataFrame(input_df.iloc[:,:2])\n",
    "\n",
    "    df.plot(x = 0, y = 1,kind = \"scatter\",figsize=(15,  10))\n",
    "    plt.title('Age vs Fat')"
   ]
  },
  {
   "cell_type": "code",
   "execution_count": 72,
   "metadata": {},
   "outputs": [
    {
     "data": {
      "image/png": "[encoded data removed]",
      "text/plain": [
       "<Figure size 1080x720 with 1 Axes>"
      ]
     },
     "metadata": {
      "needs_background": "light"
     },
     "output_type": "display_data"
    }
   ],
   "source": [
    "# Do Not Edit This Cell\n",
    "scatter_plot(dataframe2)"
   ]
  },
  {
   "cell_type": "markdown",
   "metadata": {},
   "source": [
    "<h3>Boxplot Function (5 points)</h3>\n",
    "<p style=\"text-align: justify;\">Complete the function below. It will take a Pandas DataFrame and draws a boxplot of each column separately.</p>\n",
    "<ul>\n",
    "<li class=\"a\"><span>Parameters</span>:\n",
    "<ul>\n",
    "<li class=\"b\"><span>a Pandas DataFrame </span></li>\n",
    "</ul>\n",
    "</li>\n",
    "<li class=\"a\"><span>It will draw a boxplot of each column of the input DataFrame.</span></li>\n",
    "</ul>\n",
    "<p class=\"note\">Note: Make sure each plot has title.</p>"
   ]
  },
  {
   "cell_type": "code",
   "execution_count": 69,
   "metadata": {},
   "outputs": [],
   "source": [
    "def boxplot_function(input_df):\n",
    "    # Write your code here\n",
    "    input_df.plot(kind = \"box\",  figsize=(15,  10))\n",
    "    plt.title('Box plot')"
   ]
  },
  {
   "cell_type": "code",
   "execution_count": 70,
   "metadata": {},
   "outputs": [
    {
     "data": {
      "image/png": "[encoded data removed]",
      "text/plain": [
       "<Figure size 1080x720 with 1 Axes>"
      ]
     },
     "metadata": {
      "needs_background": "light"
     },
     "output_type": "display_data"
    }
   ],
   "source": [
    "# Do Not Edit This Cell\n",
    "boxplot_function(dataframe2)"
   ]
  },
  {
   "cell_type": "markdown",
   "metadata": {},
   "source": [
    "<h3>Z-score Normalization (5 points)</h3>\n",
    "<p style=\"text-align: justify;\">Complete the function below. It will take a Pandas DataFrame and normalizes each column based on Z-score normalization.</p>\n",
    "<ul>\n",
    "<li class=\"a\"><span>Parameters</span>:\n",
    "<ul>\n",
    "<li class=\"b\"><span>a Pandas DataFrame </span></li>\n",
    "</ul>\n",
    "</li>\n",
    "<li class=\"a\"><span>a DataFrame with normalized columns.</span></li>\n",
    "</ul>"
   ]
  },
  {
   "cell_type": "code",
   "execution_count": 23,
   "metadata": {},
   "outputs": [],
   "source": [
    "def z_score_normalize(input_df):\n",
    "    output_df = input_df.copy(deep=True)\n",
    "    \n",
    "    for col in input_df.columns:\n",
    "        output_df[col] = (output_df[col] - output_df[col].mean())/output_df[col].std()\n",
    "    \n",
    "    return output_df"
   ]
  },
  {
   "cell_type": "code",
   "execution_count": 24,
   "metadata": {},
   "outputs": [
    {
     "name": "stdout",
     "output_type": "stream",
     "text": [
      "          Age       Fat\n",
      "0   -1.870319  0.704930\n",
      "1   -1.870319  1.085217\n",
      "2   -1.790533 -1.099220\n",
      "3   -1.790533 -1.010781\n",
      "4   -1.630960  1.147124\n",
      "..        ...       ...\n",
      "115  1.480697 -0.515524\n",
      "116  1.560483 -1.576789\n",
      "117  1.640269 -0.082174\n",
      "118  1.640269  1.270938\n",
      "119  1.640269 -1.338004\n",
      "\n",
      "[120 rows x 2 columns]\n"
     ]
    }
   ],
   "source": [
    "# Do Not Edit This Cell\n",
    "z_normalized_df = z_score_normalize(dataframe2)\n",
    "print(z_normalized_df)"
   ]
  },
  {
   "cell_type": "code",
   "execution_count": 56,
   "metadata": {},
   "outputs": [
    {
     "data": {
      "text/html": [
       "<div>\n",
       "<style scoped>\n",
       "    .dataframe tbody tr th:only-of-type {\n",
       "        vertical-align: middle;\n",
       "    }\n",
       "\n",
       "    .dataframe tbody tr th {\n",
       "        vertical-align: top;\n",
       "    }\n",
       "\n",
       "    .dataframe thead th {\n",
       "        text-align: right;\n",
       "    }\n",
       "</style>\n",
       "<table border=\"1\" class=\"dataframe\">\n",
       "  <thead>\n",
       "    <tr style=\"text-align: right;\">\n",
       "      <th></th>\n",
       "      <th>Age</th>\n",
       "      <th>Fat</th>\n",
       "    </tr>\n",
       "  </thead>\n",
       "  <tbody>\n",
       "    <tr>\n",
       "      <th>0</th>\n",
       "      <td>-1.870319</td>\n",
       "      <td>0.704930</td>\n",
       "    </tr>\n",
       "    <tr>\n",
       "      <th>1</th>\n",
       "      <td>-1.870319</td>\n",
       "      <td>1.085217</td>\n",
       "    </tr>\n",
       "    <tr>\n",
       "      <th>2</th>\n",
       "      <td>-1.790533</td>\n",
       "      <td>-1.099220</td>\n",
       "    </tr>\n",
       "    <tr>\n",
       "      <th>3</th>\n",
       "      <td>-1.790533</td>\n",
       "      <td>-1.010781</td>\n",
       "    </tr>\n",
       "    <tr>\n",
       "      <th>4</th>\n",
       "      <td>-1.630960</td>\n",
       "      <td>1.147124</td>\n",
       "    </tr>\n",
       "    <tr>\n",
       "      <th>...</th>\n",
       "      <td>...</td>\n",
       "      <td>...</td>\n",
       "    </tr>\n",
       "    <tr>\n",
       "      <th>115</th>\n",
       "      <td>1.480697</td>\n",
       "      <td>-0.515524</td>\n",
       "    </tr>\n",
       "    <tr>\n",
       "      <th>116</th>\n",
       "      <td>1.560483</td>\n",
       "      <td>-1.576789</td>\n",
       "    </tr>\n",
       "    <tr>\n",
       "      <th>117</th>\n",
       "      <td>1.640269</td>\n",
       "      <td>-0.082174</td>\n",
       "    </tr>\n",
       "    <tr>\n",
       "      <th>118</th>\n",
       "      <td>1.640269</td>\n",
       "      <td>1.270938</td>\n",
       "    </tr>\n",
       "    <tr>\n",
       "      <th>119</th>\n",
       "      <td>1.640269</td>\n",
       "      <td>-1.338004</td>\n",
       "    </tr>\n",
       "  </tbody>\n",
       "</table>\n",
       "<p>120 rows × 2 columns</p>\n",
       "</div>"
      ],
      "text/plain": [
       "          Age       Fat\n",
       "0   -1.870319  0.704930\n",
       "1   -1.870319  1.085217\n",
       "2   -1.790533 -1.099220\n",
       "3   -1.790533 -1.010781\n",
       "4   -1.630960  1.147124\n",
       "..        ...       ...\n",
       "115  1.480697 -0.515524\n",
       "116  1.560483 -1.576789\n",
       "117  1.640269 -0.082174\n",
       "118  1.640269  1.270938\n",
       "119  1.640269 -1.338004\n",
       "\n",
       "[120 rows x 2 columns]"
      ]
     },
     "execution_count": 56,
     "metadata": {},
     "output_type": "execute_result"
    }
   ],
   "source": [
    "z_normalized_df"
   ]
  },
  {
   "cell_type": "markdown",
   "metadata": {},
   "source": [
    "<h3> Partitioning (25 points)</h3>\n",
    "<p style=\"text-align: justify;\">Complete the function below. It will take a a list of values and a partitioning method and applies the method on the list. It will return a list of list.</p>\n",
    "<ul>\n",
    "<li class=\"a\"><span>Parameters</span>:\n",
    "<ul>\n",
    "<li class=\"b\"><span>a list of values </span></li>\n",
    "<li class=\"b\"><span>a partitioning method: equal-frequency ('ef') or equal-width ('ew') </span></li>\n",
    "<li class=\"b\"><span>number of values in each bin for equal-frequency method </span></li>\n",
    "<li class=\"b\"><span>number of bins for equal-width method</span></li>\n",
    "</ul>\n",
    "</li>\n",
    "<li class=\"a\"><span>a partitioned list of list.</span></li>\n",
    "</ul>"
   ]
  },
  {
   "cell_type": "code",
   "execution_count": 25,
   "metadata": {},
   "outputs": [],
   "source": [
    "import math"
   ]
  },
  {
   "cell_type": "code",
   "execution_count": 54,
   "metadata": {},
   "outputs": [],
   "source": [
    "def partitioning(input_list, method='ef', bin_frequency=5, bin_count=5):\n",
    "    input_list.sort()\n",
    "    output_list = []\n",
    "    # Equal-frequency partitioning \n",
    "    if method == 'ef':\n",
    "        # Write your code here\n",
    "        length = len(input_list)\n",
    "        elem_per_bin = int( bin_frequency)\n",
    "        y= int(length/bin_frequency)\n",
    "        for i in range(0,y):\n",
    "            cur_bin_elem = []\n",
    "            for j in range(i * elem_per_bin, (i + 1) * elem_per_bin):\n",
    "                if j >= length:\n",
    "                    break\n",
    "                cur_bin_elem = cur_bin_elem + [input_list[j]]\n",
    "            output_list.append(cur_bin_elem)\n",
    "            \n",
    "    # Equal-width partitioning\n",
    "    if method == 'ew':\n",
    "        # Write your code here\n",
    "        \n",
    "        length = len(input_list)\n",
    "        print(max(input_list))\n",
    "        width = math.ceil((max(input_list) - min(input_list)) / bin_count)\n",
    "        min1 = min(input_list)\n",
    "        \n",
    "        interval = []\n",
    "        for i in range(0, bin_count + 1):\n",
    "            interval = interval + [min1 + width * i]\n",
    "        \n",
    "        for i in range(0, bin_count):\n",
    "            temp = []\n",
    "            for j in input_list:\n",
    "                if j >= interval[i] and j <= interval[i+1]:\n",
    "                    temp += [j]\n",
    "            output_list += [temp]\n",
    " \n",
    "    return output_list"
   ]
  },
  {
   "cell_type": "code",
   "execution_count": 55,
   "metadata": {},
   "outputs": [
    {
     "name": "stdout",
     "output_type": "stream",
     "text": [
      "Partitioned using Equal Frequency method:\n",
      "Bin 1 [21, 24] -> [21, 21, 22, 22, 24]\n",
      "Bin 2 [24, 26] -> [24, 24, 25, 26, 26]\n",
      "Bin 3 [27, 27] -> [27, 27, 27, 27, 27]\n",
      "Bin 4 [28, 29] -> [28, 28, 29, 29, 29]\n",
      "Bin 5 [29, 31] -> [29, 30, 31, 31, 31]\n",
      "Bin 6 [32, 33] -> [32, 32, 32, 32, 33]\n",
      "Bin 7 [35, 36] -> [35, 35, 35, 35, 36]\n",
      "Bin 8 [37, 38] -> [37, 37, 37, 38, 38]\n",
      "Bin 9 [38, 40] -> [38, 39, 40, 40, 40]\n",
      "Bin 10 [40, 42] -> [40, 40, 41, 42, 42]\n",
      "Bin 11 [43, 44] -> [43, 43, 43, 44, 44]\n",
      "Bin 12 [44, 45] -> [44, 44, 44, 45, 45]\n",
      "Bin 13 [46, 47] -> [46, 46, 46, 47, 47]\n",
      "Bin 14 [47, 48] -> [47, 47, 48, 48, 48]\n",
      "Bin 15 [48, 49] -> [48, 48, 48, 49, 49]\n",
      "Bin 16 [49, 51] -> [49, 50, 51, 51, 51]\n",
      "Bin 17 [51, 53] -> [51, 52, 52, 53, 53]\n",
      "Bin 18 [54, 55] -> [54, 54, 54, 54, 55]\n",
      "Bin 19 [55, 57] -> [55, 56, 56, 56, 57]\n",
      "Bin 20 [57, 57] -> [57, 57, 57, 57, 57]\n",
      "Bin 21 [58, 61] -> [58, 59, 59, 61, 61]\n",
      "Bin 22 [61, 62] -> [61, 61, 62, 62, 62]\n",
      "Bin 23 [62, 63] -> [62, 63, 63, 63, 63]\n",
      "Bin 24 [63, 65] -> [63, 64, 65, 65, 65]\n",
      "\n",
      "Partitioned using Equal-Width method:\n",
      "65\n",
      "Bin 1 [21, 30] -> [21, 21, 22, 22, 24, 24, 24, 25, 26, 26, 27, 27, 27, 27, 27, 28, 28, 29, 29, 29, 29, 30]\n",
      "Bin 2 [30, 39] -> [30, 31, 31, 31, 32, 32, 32, 32, 33, 35, 35, 35, 35, 36, 37, 37, 37, 38, 38, 38, 39]\n",
      "Bin 3 [39, 48] -> [39, 40, 40, 40, 40, 40, 41, 42, 42, 43, 43, 43, 44, 44, 44, 44, 44, 45, 45, 46, 46, 46, 47, 47, 47, 47, 48, 48, 48, 48, 48, 48]\n",
      "Bin 4 [48, 57] -> [48, 48, 48, 48, 48, 48, 49, 49, 49, 50, 51, 51, 51, 51, 52, 52, 53, 53, 54, 54, 54, 54, 55, 55, 56, 56, 56, 57, 57, 57, 57, 57, 57]\n",
      "Bin 5 [57, 65] -> [57, 57, 57, 57, 57, 57, 58, 59, 59, 61, 61, 61, 61, 62, 62, 62, 62, 63, 63, 63, 63, 63, 64, 65, 65, 65]\n",
      "\n"
     ]
    }
   ],
   "source": [
    "# Do Not Edit This Cell\n",
    "test_list = list(dataframe2[\"Age\"])\n",
    "for method in ['ef', 'ew']:\n",
    "    print(\"Partitioned using {name} method:\".format(name = 'Equal-Width' if method == 'ew' else 'Equal Frequency'))\n",
    "    counter = 1\n",
    "    for item in partitioning(test_list, method=method):\n",
    "        print('Bin {} [{}, {}] -> {}'.format(counter, min(item), max(item), item))\n",
    "        counter += 1\n",
    "    print()"
   ]
  },
  {
   "cell_type": "code",
   "execution_count": null,
   "metadata": {},
   "outputs": [],
   "source": []
  }
 ],
 "metadata": {
  "kernelspec": {
   "display_name": "Python 3",
   "language": "python",
   "name": "python3"
  },
  "language_info": {
   "codemirror_mode": {
    "name": "ipython",
    "version": 3
   },
   "file_extension": ".py",
   "mimetype": "text/x-python",
   "name": "python",
   "nbconvert_exporter": "python",
   "pygments_lexer": "ipython3",
   "version": "3.8.5"
  }
 },
 "nbformat": 4,
 "nbformat_minor": 2
}
